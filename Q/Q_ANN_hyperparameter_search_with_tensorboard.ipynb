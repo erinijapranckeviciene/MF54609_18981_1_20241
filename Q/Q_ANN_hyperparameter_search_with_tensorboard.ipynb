{
 "cells": [
  {
   "cell_type": "markdown",
   "id": "f762b966-42a0-4b34-9481-aa4205737940",
   "metadata": {},
   "source": [
    "# ANN hyper parameter search and analysis with tensorboard \n",
    "\n",
    "A.Geron Ch.10"
   ]
  },
  {
   "cell_type": "markdown",
   "id": "02ec0e29-7d98-4e42-affb-98a32b4ca5c5",
   "metadata": {},
   "source": [
    "## Question 1: \n",
    "\n",
    "#### Investigate the TensorBoard interface ( try to invoke it in the browser using url  localhost:6006 ) . What elements are available for review? How information is organized in tensorboard?"
   ]
  },
  {
   "cell_type": "markdown",
   "id": "8c987ee1-88e1-4ccd-a835-44c43e5fdde1",
   "metadata": {},
   "source": [
    "## Question 2:\n",
    "\n",
    "#### Compare best model parameters and accuracy found by random search and hyperban search. Which accuracy is better? Compare both searches in TensorBoard. How both searches differ with reagrds to changes of val_accuracy across the training epochs? "
   ]
  },
  {
   "cell_type": "markdown",
   "id": "960ffd58-5edc-49a8-b853-b0a451afa77f",
   "metadata": {},
   "source": [
    "## Question 3:\n",
    "\n",
    "#### If we wanted to access results of both hyperparameters searches in one TensorBoard  window - how would we achieve that?"
   ]
  },
  {
   "cell_type": "markdown",
   "id": "1440b689-c76c-484d-8809-7726c5a38da8",
   "metadata": {},
   "source": [
    "#### Fashion MNIST images "
   ]
  },
  {
   "cell_type": "code",
   "execution_count": 2,
   "id": "76ed7dd0-f54b-4bc0-839a-1f69ba8f7244",
   "metadata": {
    "scrolled": true
   },
   "outputs": [],
   "source": [
    "import tensorflow as tf\n",
    "import keras as keras\n",
    "import numpy as np"
   ]
  },
  {
   "cell_type": "markdown",
   "id": "37cdaea0-d0e6-45ed-86e6-86db8bf3e0ea",
   "metadata": {},
   "source": [
    "#### load the dataset"
   ]
  },
  {
   "cell_type": "code",
   "execution_count": 15,
   "id": "c5fa2479-2f4e-4614-b4c4-1675303820ef",
   "metadata": {},
   "outputs": [],
   "source": [
    "fashion_mnist = tf.keras.datasets.fashion_mnist.load_data()\n",
    "(X_train_full, y_train_full), (X_test, y_test) = fashion_mnist\n",
    "X_train, y_train = X_train_full[:-5000], y_train_full[:-5000]\n",
    "X_valid, y_valid = X_train_full[-5000:], y_train_full[-5000:]\n",
    "\n",
    "X_train = X_train / 255\n",
    "X_valid = X_valid / 255 \n",
    "X_test = X_test / 255"
   ]
  },
  {
   "cell_type": "code",
   "execution_count": 9,
   "id": "fc9b6ec3-759a-4229-90d9-2c15f706289d",
   "metadata": {},
   "outputs": [
    {
     "data": {
      "text/plain": [
       "(55000, 28, 28)"
      ]
     },
     "execution_count": 9,
     "metadata": {},
     "output_type": "execute_result"
    }
   ],
   "source": [
    "X_train.shape"
   ]
  },
  {
   "cell_type": "code",
   "execution_count": 10,
   "id": "7c1edbbb-4f2f-4023-b053-f90b11313877",
   "metadata": {},
   "outputs": [
    {
     "data": {
      "text/plain": [
       "'Ankle boot'"
      ]
     },
     "execution_count": 10,
     "metadata": {},
     "output_type": "execute_result"
    }
   ],
   "source": [
    "class_names = [\"T-shirt/top\", \"Trouser\", \"Pullover\", \"Dress\", \"Coat\",\n",
    "\"Sandal\", \"Shirt\", \"Sneaker\", \"Bag\", \"Ankle boot\"]\n",
    "class_names[y_train[0]]"
   ]
  },
  {
   "cell_type": "markdown",
   "id": "ce0549e9-4d6b-44c0-80b5-60cf9bdedf7c",
   "metadata": {},
   "source": [
    "#### Create model to work with"
   ]
  },
  {
   "cell_type": "code",
   "execution_count": 11,
   "id": "61cbe5e7-262e-4976-948b-156ca7541c4d",
   "metadata": {},
   "outputs": [],
   "source": [
    "tf.random.set_seed(42)\n",
    "model = tf.keras.Sequential()\n",
    "model.add(tf.keras.layers.Input(shape=[28, 28]))\n",
    "model.add(tf.keras.layers.Flatten())\n",
    "model.add(tf.keras.layers.Dense(300, activation=\"relu\"))\n",
    "model.add(tf.keras.layers.Dense(100, activation=\"relu\"))\n",
    "model.add(tf.keras.layers.Dense(10, activation=\"softmax\"))"
   ]
  },
  {
   "cell_type": "markdown",
   "id": "a5148b8a-0711-4f68-8fc4-2d01a4a4a690",
   "metadata": {},
   "source": [
    "#### Also recall that we can pass list of layers"
   ]
  },
  {
   "cell_type": "code",
   "execution_count": 16,
   "id": "36ecb4e1-c70e-4280-8f8d-dcc5acbebb7d",
   "metadata": {},
   "outputs": [
    {
     "name": "stdout",
     "output_type": "stream",
     "text": [
      "Model: \"sequential_6\"\n",
      "_________________________________________________________________\n",
      " Layer (type)                Output Shape              Param #   \n",
      "=================================================================\n",
      " flatten_6 (Flatten)         (None, 784)               0         \n",
      "                                                                 \n",
      " dense_18 (Dense)            (None, 300)               235500    \n",
      "                                                                 \n",
      " dense_19 (Dense)            (None, 100)               30100     \n",
      "                                                                 \n",
      " dense_20 (Dense)            (None, 10)                1010      \n",
      "                                                                 \n",
      "=================================================================\n",
      "Total params: 266610 (1.02 MB)\n",
      "Trainable params: 266610 (1.02 MB)\n",
      "Non-trainable params: 0 (0.00 Byte)\n",
      "_________________________________________________________________\n"
     ]
    }
   ],
   "source": [
    "model = tf.keras.Sequential([\n",
    "tf.keras.layers.Flatten(input_shape=[28, 28]),\n",
    "tf.keras.layers.Dense(300, activation=\"relu\"),\n",
    "tf.keras.layers.Dense(100, activation=\"relu\"),\n",
    "tf.keras.layers.Dense(10, activation=\"softmax\")\n",
    "])\n",
    "model.summary()"
   ]
  },
  {
   "cell_type": "markdown",
   "id": "7e3cc78d-2f00-45f8-b70c-e2dc55af0920",
   "metadata": {},
   "source": [
    "#### Compile , train and evaluate"
   ]
  },
  {
   "cell_type": "code",
   "execution_count": 18,
   "id": "50346b1c-c03d-4d0e-8fcb-cbb54849c654",
   "metadata": {},
   "outputs": [
    {
     "name": "stdout",
     "output_type": "stream",
     "text": [
      "313/313 [==============================] - 1s 2ms/step - loss: 0.3208 - accuracy: 0.8856\n"
     ]
    },
    {
     "data": {
      "text/plain": [
       "[0.3208242952823639, 0.8855999708175659]"
      ]
     },
     "execution_count": 18,
     "metadata": {},
     "output_type": "execute_result"
    }
   ],
   "source": [
    "model.compile(loss=\"sparse_categorical_crossentropy\", optimizer=\"sgd\", metrics=[\"accuracy\"])\n",
    "history = model.fit(X_train, y_train, epochs=30, verbose=0, validation_data=(X_valid, y_valid))\n",
    "model.evaluate(X_test, y_test)"
   ]
  },
  {
   "cell_type": "markdown",
   "id": "5beec850-d98a-4eb4-8766-c420b1103adf",
   "metadata": {},
   "source": [
    "#### Use the model to make predictions"
   ]
  },
  {
   "cell_type": "code",
   "execution_count": 19,
   "id": "39340e33-e5fc-43c1-a330-ac17a99e8350",
   "metadata": {},
   "outputs": [
    {
     "name": "stdout",
     "output_type": "stream",
     "text": [
      "1/1 [==============================] - 0s 58ms/step\n"
     ]
    },
    {
     "data": {
      "text/plain": [
       "array([[0.  , 0.  , 0.  , 0.  , 0.  , 0.  , 0.  , 0.01, 0.  , 0.98],\n",
       "       [0.  , 0.  , 1.  , 0.  , 0.  , 0.  , 0.  , 0.  , 0.  , 0.  ],\n",
       "       [0.  , 1.  , 0.  , 0.  , 0.  , 0.  , 0.  , 0.  , 0.  , 0.  ]],\n",
       "      dtype=float32)"
      ]
     },
     "execution_count": 19,
     "metadata": {},
     "output_type": "execute_result"
    }
   ],
   "source": [
    "X_new = X_test[:3]\n",
    "y_proba = model.predict(X_new)\n",
    "y_proba.round(2)"
   ]
  },
  {
   "cell_type": "markdown",
   "id": "17b28e0a-bea9-4eab-b801-0c054fe35cab",
   "metadata": {},
   "source": [
    "#### Which class?"
   ]
  },
  {
   "cell_type": "code",
   "execution_count": 20,
   "id": "95ae80f6-9bee-4eaa-8c97-3dd10fcb9551",
   "metadata": {},
   "outputs": [
    {
     "name": "stdout",
     "output_type": "stream",
     "text": [
      "[9 2 1]\n"
     ]
    },
    {
     "data": {
      "text/plain": [
       "array(['Ankle boot', 'Pullover', 'Trouser'], dtype='<U11')"
      ]
     },
     "execution_count": 20,
     "metadata": {},
     "output_type": "execute_result"
    }
   ],
   "source": [
    "import numpy as np\n",
    "y_pred = y_proba.argmax(axis=-1)\n",
    "print(y_pred)\n",
    "np.array(class_names)[y_pred]"
   ]
  },
  {
   "cell_type": "markdown",
   "id": "11bc3d71-d712-4d76-8fa5-4fb792b9a24c",
   "metadata": {},
   "source": [
    "#### What are correct answers?"
   ]
  },
  {
   "cell_type": "code",
   "execution_count": 21,
   "id": "4d44550a-7f55-4216-acdf-03bfe2e8a693",
   "metadata": {},
   "outputs": [
    {
     "data": {
      "text/plain": [
       "array([9, 2, 1], dtype=uint8)"
      ]
     },
     "execution_count": 21,
     "metadata": {},
     "output_type": "execute_result"
    }
   ],
   "source": [
    "y_new = y_test[:3]\n",
    "y_new"
   ]
  },
  {
   "cell_type": "markdown",
   "id": "07e420a9-b8e2-4c03-8dbb-b156623f2528",
   "metadata": {},
   "source": [
    "#### Save and restore models"
   ]
  },
  {
   "cell_type": "code",
   "execution_count": 26,
   "id": "00348237-b3ed-45e0-b96e-72fe9b65341d",
   "metadata": {},
   "outputs": [
    {
     "name": "stdout",
     "output_type": "stream",
     "text": [
      "INFO:tensorflow:Assets written to: my_keras_model/assets\n"
     ]
    },
    {
     "name": "stderr",
     "output_type": "stream",
     "text": [
      "INFO:tensorflow:Assets written to: my_keras_model/assets\n"
     ]
    },
    {
     "name": "stdout",
     "output_type": "stream",
     "text": [
      "1/1 [==============================] - 0s 40ms/step\n"
     ]
    },
    {
     "data": {
      "text/plain": [
       "array([[0.  , 0.  , 0.  , 0.  , 0.  , 0.  , 0.  , 0.01, 0.  , 0.98],\n",
       "       [0.  , 0.  , 1.  , 0.  , 0.  , 0.  , 0.  , 0.  , 0.  , 0.  ],\n",
       "       [0.  , 1.  , 0.  , 0.  , 0.  , 0.  , 0.  , 0.  , 0.  , 0.  ]],\n",
       "      dtype=float32)"
      ]
     },
     "execution_count": 26,
     "metadata": {},
     "output_type": "execute_result"
    }
   ],
   "source": [
    "model.save(\"my_keras_model\", save_format=\"tf\")\n",
    "model1 = tf.keras.models.load_model(\"my_keras_model\")\n",
    "\n",
    "y_pred1 = model1.predict(X_test[:3])\n",
    "y_pred1.round(2)"
   ]
  },
  {
   "cell_type": "markdown",
   "id": "e66a7c99-5bf3-4c56-8e7f-6ad23577a78f",
   "metadata": {},
   "source": [
    "#### Using callbacks and TensorBoard\n",
    "\n",
    "the ModelCheckpoint callback saves checkpoints of your model at regular intervals during training, by default at the end of each epoch in fit() method."
   ]
  },
  {
   "cell_type": "markdown",
   "id": "a80b2721-bfaa-4982-9fba-f946999ee098",
   "metadata": {},
   "source": [
    "#### Create a function to create a directory in which the callbacks will be saved"
   ]
  },
  {
   "cell_type": "code",
   "execution_count": 28,
   "id": "60744083-8f2e-43ef-97a1-39b727e197f1",
   "metadata": {},
   "outputs": [
    {
     "name": "stdout",
     "output_type": "stream",
     "text": [
      "my_logs/run_2024_01_17_20_10_00\n"
     ]
    }
   ],
   "source": [
    "from pathlib import Path\n",
    "from time import strftime\n",
    "\n",
    "def get_run_logdir(root_logdir=\"my_logs\"):\n",
    "    return Path(root_logdir) / strftime(\"run_%Y_%m_%d_%H_%M_%S\")\n",
    "\n",
    "run_logdir = get_run_logdir()\n",
    "# e.g., my_logs/run_2022_08_01_17_25_59\n",
    "\n",
    "print(run_logdir)"
   ]
  },
  {
   "cell_type": "markdown",
   "id": "c14d4bbf-abce-47a7-84aa-45ec5aa2eafe",
   "metadata": {},
   "source": [
    "#### Use the TensorBoard callbacks to profile the model training (verbose =0 here, wait for process to complete)"
   ]
  },
  {
   "cell_type": "code",
   "execution_count": null,
   "id": "0760ca34-b3f5-44ab-be48-f2dae6981a98",
   "metadata": {},
   "outputs": [],
   "source": [
    "tensorboard_cb = tf.keras.callbacks.TensorBoard(run_logdir, profile_batch=(100, 200))\n",
    "history = model.fit(X_train, y_train, epochs=30, verbose=0, validation_data=(X_valid, y_valid), callbacks=[tensorboard_cb])"
   ]
  },
  {
   "cell_type": "markdown",
   "id": "b4620e9c-3a2b-455c-8767-d22b62bc31ad",
   "metadata": {},
   "source": [
    "#### Invoke a tensor board when process has completed , the checkpoints written under the root_logdir \"my_logs\". "
   ]
  },
  {
   "cell_type": "code",
   "execution_count": 32,
   "id": "f981c55e-3ae5-45e3-96b8-93191beebd03",
   "metadata": {
    "scrolled": true
   },
   "outputs": [],
   "source": [
    "# UNCOMMENT\n",
    "\n",
    "#%load_ext tensorboard\n",
    "#%tensorboard --logdir=./my_logs"
   ]
  },
  {
   "cell_type": "markdown",
   "id": "db2f4d43-2c6b-46ad-9b84-3c8f3a74c589",
   "metadata": {},
   "source": [
    "## Fine tuning Neural Network Hyperparameters\n",
    "\n",
    "Find optimal number of layers, the number of neurons and the type of activation function to use in each layer, the type of optimizer to use, its learning rate, the batch size, and more. What combination of hyperparameters is the best for your task?"
   ]
  },
  {
   "cell_type": "code",
   "execution_count": 33,
   "id": "68d025b3-cea4-4ae5-9497-7c86afef1682",
   "metadata": {},
   "outputs": [],
   "source": [
    "# UNCOMMENT ana RUN\n",
    "#%pip install -q -U keras-tuner"
   ]
  },
  {
   "cell_type": "code",
   "execution_count": 38,
   "id": "0d5ea309-6ae9-494a-8969-a1b9161aaba8",
   "metadata": {},
   "outputs": [],
   "source": [
    "import keras_tuner as kt"
   ]
  },
  {
   "cell_type": "markdown",
   "id": "6eea6f47-b2e9-4cbb-85ed-e5ac8c3a16af",
   "metadata": {},
   "source": [
    "#### This is function to build models with various combinations of the hyperparameters "
   ]
  },
  {
   "cell_type": "code",
   "execution_count": 43,
   "id": "27b8a67c-e8b9-47bb-ab74-182616c184d2",
   "metadata": {},
   "outputs": [],
   "source": [
    "def build_model(hp):\n",
    "    n_hidden = hp.Int(\"n_hidden\", min_value=0, max_value=8, default=2)\n",
    "    n_neurons = hp.Int(\"n_neurons\", min_value=16, max_value=256)\n",
    "    learning_rate = hp.Float(\"learning_rate\", min_value=0.01, max_value=0.02, sampling=\"log\")\n",
    "    optimizer = hp.Choice(\"optimizer\", values=[\"sgd\", \"adam\"])\n",
    "    if optimizer == \"sgd\":\n",
    "        optimizer = tf.keras.optimizers.SGD(learning_rate=learning_rate)\n",
    "    else:\n",
    "        optimizer = tf.keras.optimizers.Adam(learning_rate=learning_rate)\n",
    "\n",
    "    model = tf.keras.Sequential()\n",
    "    model.add(tf.keras.layers.Flatten())\n",
    "    for _ in range(n_hidden):\n",
    "        model.add(tf.keras.layers.Dense(n_neurons, activation=\"relu\"))\n",
    "        \n",
    "    model.add(tf.keras.layers.Dense(10, activation=\"softmax\"))\n",
    "    model.compile(loss=\"sparse_categorical_crossentropy\", optimizer=optimizer, metrics=[\"accuracy\"])\n",
    "    return model"
   ]
  },
  {
   "cell_type": "markdown",
   "id": "0fa79642-0a29-4fe4-9599-4b05574c2b27",
   "metadata": {},
   "source": [
    "#### Random search tuner from keras_tuner"
   ]
  },
  {
   "cell_type": "code",
   "execution_count": 60,
   "id": "e0ea3cbd-da22-445f-bd9e-eddf292a88a2",
   "metadata": {},
   "outputs": [
    {
     "name": "stdout",
     "output_type": "stream",
     "text": [
      "Trial 5 Complete [00h 01m 28s]\n",
      "val_accuracy: 0.8723999857902527\n",
      "\n",
      "Best val_accuracy So Far: 0.8744000196456909\n",
      "Total elapsed time: 00h 08m 24s\n"
     ]
    }
   ],
   "source": [
    "# initialize random search tuner , the function that builds models is passed as argument\n",
    "# In order to inspect result with tensor board pass the tensor board callbacks to the search method\n",
    "random_search_tuner = kt.RandomSearch(build_model, objective=\"val_accuracy\", max_trials=5,\n",
    "                                      overwrite=False, directory=\"fashion_dataset\", \n",
    "                                      project_name=\"random_search\", seed=42)\n",
    "random_search_tuner.search(X_train, y_train, epochs=10, verbose=1, validation_data=(X_valid, y_valid),\n",
    "                          callbacks=[keras.callbacks.TensorBoard(\"./fashion_dataset/random_search_log\")])"
   ]
  },
  {
   "cell_type": "code",
   "execution_count": 50,
   "id": "14468cc2-bf1a-4741-a9e7-55a9a2b162ef",
   "metadata": {},
   "outputs": [],
   "source": [
    "### Too many warnings\n",
    "#top3_models = random_search_tuner.get_best_models(num_models=3)\n",
    "#best_model = top3_models[0]"
   ]
  },
  {
   "cell_type": "code",
   "execution_count": 51,
   "id": "756b734f-b5fc-492b-88ab-f870b38d3316",
   "metadata": {},
   "outputs": [
    {
     "data": {
      "text/plain": [
       "{'n_hidden': 5,\n",
       " 'n_neurons': 70,\n",
       " 'learning_rate': 0.012378244763480603,\n",
       " 'optimizer': 'sgd'}"
      ]
     },
     "execution_count": 51,
     "metadata": {},
     "output_type": "execute_result"
    }
   ],
   "source": [
    "top3_params = random_search_tuner.get_best_hyperparameters(num_trials=3)\n",
    "top3_params[0].values # best hyperparameter values"
   ]
  },
  {
   "cell_type": "code",
   "execution_count": 52,
   "id": "77926a98-3d50-4a43-a8a9-3333796a5329",
   "metadata": {},
   "outputs": [
    {
     "name": "stdout",
     "output_type": "stream",
     "text": [
      "Trial 4 summary\n",
      "Hyperparameters:\n",
      "n_hidden: 5\n",
      "n_neurons: 70\n",
      "learning_rate: 0.012378244763480603\n",
      "optimizer: sgd\n",
      "Score: 0.8781999945640564\n"
     ]
    }
   ],
   "source": [
    "best_trial = random_search_tuner.oracle.get_best_trials(num_trials=1)[0]\n",
    "best_trial.summary()"
   ]
  },
  {
   "cell_type": "code",
   "execution_count": 53,
   "id": "13471dea-dfd9-4ed9-bc95-0bc7fd9c7d80",
   "metadata": {},
   "outputs": [
    {
     "data": {
      "text/plain": [
       "0.8781999945640564"
      ]
     },
     "execution_count": 53,
     "metadata": {},
     "output_type": "execute_result"
    }
   ],
   "source": [
    "best_trial.metrics.get_last_value(\"val_accuracy\")"
   ]
  },
  {
   "cell_type": "markdown",
   "id": "aefe8f11-9c39-4e18-a735-2bfdb0d96bd9",
   "metadata": {},
   "source": [
    "#### Invoke TensorBoard to inspect random search profiling "
   ]
  },
  {
   "cell_type": "code",
   "execution_count": 62,
   "id": "925ba963-0e1e-42ef-8582-f1262fa9dc49",
   "metadata": {},
   "outputs": [
    {
     "name": "stdout",
     "output_type": "stream",
     "text": [
      "The tensorboard extension is already loaded. To reload it, use:\n",
      "  %reload_ext tensorboard\n"
     ]
    },
    {
     "data": {
      "text/html": [
       "\n",
       "      <iframe id=\"tensorboard-frame-c30c002d1c1e4e1c\" width=\"100%\" height=\"800\" frameborder=\"0\">\n",
       "      </iframe>\n",
       "      <script>\n",
       "        (function() {\n",
       "          const frame = document.getElementById(\"tensorboard-frame-c30c002d1c1e4e1c\");\n",
       "          const url = new URL(\"/\", window.location);\n",
       "          const port = 6009;\n",
       "          if (port) {\n",
       "            url.port = port;\n",
       "          }\n",
       "          frame.src = url;\n",
       "        })();\n",
       "      </script>\n",
       "    "
      ],
      "text/plain": [
       "<IPython.core.display.HTML object>"
      ]
     },
     "metadata": {},
     "output_type": "display_data"
    }
   ],
   "source": [
    "%load_ext tensorboard\n",
    "%tensorboard --logdir=./fashion_dataset/random_search_log"
   ]
  },
  {
   "cell_type": "markdown",
   "id": "2ee0046a-b0d1-4b26-ab72-5c0932412f6e",
   "metadata": {},
   "source": [
    "## Hyperband tuner from keras_tuner. This is directed search that adjusts parameter values based on improvement of objective function. "
   ]
  },
  {
   "cell_type": "markdown",
   "id": "d86437de-f4e8-43ff-9468-00d7e31a9f95",
   "metadata": {},
   "source": [
    "#### Hyper parameters function"
   ]
  },
  {
   "cell_type": "markdown",
   "id": "8d5298ca-ca20-4d02-bf34-b4a330f999f7",
   "metadata": {},
   "source": [
    "#### Initialize hyperband tuner"
   ]
  },
  {
   "cell_type": "code",
   "execution_count": null,
   "id": "7cf3bb98-26ff-4783-a37a-69c6de14a581",
   "metadata": {},
   "outputs": [],
   "source": [
    "# What part of search process controls parameter hyperband_iterations? \n",
    "\n",
    "hyperband_tuner = kt.Hyperband( MyClassificationHyperModel(), objective=\"val_accuracy\", seed=42, \n",
    "                               max_epochs=10, factor=3, hyperband_iterations=2,\n",
    "                               overwrite=False, directory=\"fashion_dataset\", project_name=\"hyperband_search\" )\n",
    "\n",
    "hyperband_tuner.search(X_train, y_train, epochs=10, verbose=1, validation_data=(X_valid, y_valid),\n",
    "                          callbacks=[keras.callbacks.TensorBoard(\"./fashion_dataset/hyperband_search_log\"),  tf.keras.callbacks.EarlyStopping(patience=2)])\n",
    "\n",
    "# Print best model parameters"
   ]
  },
  {
   "cell_type": "code",
   "execution_count": 73,
   "id": "0c4244f2-346a-48d3-be0e-873f19b54c03",
   "metadata": {},
   "outputs": [],
   "source": [
    "#%reload_ext tensorboard\n",
    "#%tensorboard --logdir=\"./fashion_dataset/hyperband_search_log\""
   ]
  }
 ],
 "metadata": {
  "kernelspec": {
   "display_name": "Python 3 (ipykernel)",
   "language": "python",
   "name": "python3"
  },
  "language_info": {
   "codemirror_mode": {
    "name": "ipython",
    "version": 3
   },
   "file_extension": ".py",
   "mimetype": "text/x-python",
   "name": "python",
   "nbconvert_exporter": "python",
   "pygments_lexer": "ipython3",
   "version": "3.10.12"
  }
 },
 "nbformat": 4,
 "nbformat_minor": 5
}
