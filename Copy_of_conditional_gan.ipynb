{
  "cells": [
    {
      "cell_type": "markdown",
      "metadata": {
        "id": "view-in-github",
        "colab_type": "text"
      },
      "source": [
        "<a href=\"https://colab.research.google.com/github/erinijapranckeviciene/MF54609_18981_1_20241/blob/main/Copy_of_conditional_gan.ipynb\" target=\"_parent\"><img src=\"https://colab.research.google.com/assets/colab-badge.svg\" alt=\"Open In Colab\"/></a>"
      ]
    },
    {
      "cell_type": "markdown",
      "metadata": {
        "id": "d_Bc1jAmxDs9"
      },
      "source": [
        "# Conditional GAN\n",
        "\n",
        "**Author:** [Sayak Paul](https://twitter.com/RisingSayak)<br>\n",
        "**Date created:** 2021/07/13<br>\n",
        "**Last modified:** 2024/01/02<br>\n",
        "**Description:** Training a GAN conditioned on class labels to generate handwritten digits."
      ]
    },
    {
      "cell_type": "markdown",
      "metadata": {
        "id": "IL01E5QlxDs_"
      },
      "source": [
        "Generative Adversarial Networks (GANs) let us generate novel image data, video data,\n",
        "or audio data from a random input. Typically, the random input is sampled\n",
        "from a normal distribution, before going through a series of transformations that turn\n",
        "it into something plausible (image, video, audio, etc.).\n",
        "\n",
        "However, a simple [DCGAN](https://arxiv.org/abs/1511.06434) doesn't let us control\n",
        "the appearance (e.g. class) of the samples we're generating. For instance,\n",
        "with a GAN that generates MNIST handwritten digits, a simple DCGAN wouldn't let us\n",
        "choose the class of digits we're generating.\n",
        "To be able to control what we generate, we need to _condition_ the GAN output\n",
        "on a semantic input, such as the class of an image.\n",
        "\n",
        "In this example, we'll build a **Conditional GAN** that can generate MNIST handwritten\n",
        "digits conditioned on a given class. Such a model can have various useful applications:\n",
        "\n",
        "* let's say you are dealing with an\n",
        "[imbalanced image dataset](https://developers.google.com/machine-learning/data-prep/construct/sampling-splitting/imbalanced-data),\n",
        "and you'd like to gather more examples for the skewed class to balance the dataset.\n",
        "Data collection can be a costly process on its own. You could instead train a Conditional GAN and use\n",
        "it to generate novel images for the class that needs balancing.\n",
        "* Since the generator learns to associate the generated samples with the class labels,\n",
        "its representations can also be used for [other downstream tasks](https://arxiv.org/abs/1809.11096).\n",
        "\n",
        "Following are the references used for developing this example:\n",
        "\n",
        "* [Conditional Generative Adversarial Nets](https://arxiv.org/abs/1411.1784)\n",
        "* [Lecture on Conditional Generation from Coursera](https://www.coursera.org/lecture/build-basic-generative-adversarial-networks-gans/conditional-generation-inputs-2OPrG)\n",
        "\n",
        "If you need a refresher on GANs, you can refer to the \"Generative adversarial networks\"\n",
        "section of\n",
        "[this resource](https://livebook.manning.com/book/deep-learning-with-python-second-edition/chapter-12/r-3/232).\n",
        "\n",
        "This example requires TensorFlow 2.5 or higher, as well as TensorFlow Docs, which can be\n",
        "installed using the following command:"
      ]
    },
    {
      "cell_type": "code",
      "execution_count": null,
      "metadata": {
        "colab": {
          "base_uri": "https://localhost:8080/"
        },
        "id": "pDCxIHOKxDtA",
        "outputId": "b634877b-1078-41a1-fc1c-22a224639649"
      },
      "outputs": [
        {
          "output_type": "stream",
          "name": "stdout",
          "text": [
            "  Preparing metadata (setup.py) ... \u001b[?25l\u001b[?25hdone\n",
            "  Building wheel for tensorflow-docs (setup.py) ... \u001b[?25l\u001b[?25hdone\n"
          ]
        }
      ],
      "source": [
        "!pip install -q git+https://github.com/tensorflow/docs"
      ]
    },
    {
      "cell_type": "markdown",
      "metadata": {
        "id": "jBOjaJPmxDtB"
      },
      "source": [
        "## Imports"
      ]
    },
    {
      "cell_type": "code",
      "execution_count": null,
      "metadata": {
        "id": "ygaLlUSAxDtC"
      },
      "outputs": [],
      "source": [
        "import keras\n",
        "\n",
        "from keras import layers\n",
        "from keras import ops\n",
        "from tensorflow_docs.vis import embed\n",
        "import tensorflow as tf\n",
        "import numpy as np\n",
        "import imageio"
      ]
    },
    {
      "cell_type": "markdown",
      "metadata": {
        "id": "rWgrViLNxDtC"
      },
      "source": [
        "## Constants and hyperparameters"
      ]
    },
    {
      "cell_type": "code",
      "execution_count": null,
      "metadata": {
        "id": "biYWcNF5xDtD"
      },
      "outputs": [],
      "source": [
        "batch_size = 64\n",
        "num_channels = 1\n",
        "num_classes = 10\n",
        "image_size = 28\n",
        "latent_dim = 128"
      ]
    },
    {
      "cell_type": "markdown",
      "metadata": {
        "id": "lhORdQknxDtD"
      },
      "source": [
        "## Loading the MNIST dataset and preprocessing it"
      ]
    },
    {
      "cell_type": "code",
      "execution_count": null,
      "metadata": {
        "colab": {
          "base_uri": "https://localhost:8080/"
        },
        "id": "GCo6uUKexDtE",
        "outputId": "824d931c-2fec-4d00-d4b2-794db04658aa"
      },
      "outputs": [
        {
          "output_type": "stream",
          "name": "stdout",
          "text": [
            "Downloading data from https://storage.googleapis.com/tensorflow/tf-keras-datasets/mnist.npz\n",
            "\u001b[1m11490434/11490434\u001b[0m \u001b[32m━━━━━━━━━━━━━━━━━━━━\u001b[0m\u001b[37m\u001b[0m \u001b[1m0s\u001b[0m 0us/step\n",
            "Shape of training images: (70000, 28, 28, 1)\n",
            "Shape of training labels: (70000, 10)\n"
          ]
        }
      ],
      "source": [
        "# We'll use all the available examples from both the training and test\n",
        "# sets.\n",
        "(x_train, y_train), (x_test, y_test) = keras.datasets.mnist.load_data()\n",
        "all_digits = np.concatenate([x_train, x_test])\n",
        "all_labels = np.concatenate([y_train, y_test])\n",
        "\n",
        "# Scale the pixel values to [0, 1] range, add a channel dimension to\n",
        "# the images, and one-hot encode the labels.\n",
        "all_digits = all_digits.astype(\"float32\") / 255.0\n",
        "all_digits = np.reshape(all_digits, (-1, 28, 28, 1))\n",
        "all_labels = keras.utils.to_categorical(all_labels, 10)\n",
        "\n",
        "# Create tf.data.Dataset.\n",
        "dataset = tf.data.Dataset.from_tensor_slices((all_digits, all_labels))\n",
        "dataset = dataset.shuffle(buffer_size=1024).batch(batch_size)\n",
        "\n",
        "print(f\"Shape of training images: {all_digits.shape}\")\n",
        "print(f\"Shape of training labels: {all_labels.shape}\")"
      ]
    },
    {
      "cell_type": "markdown",
      "metadata": {
        "id": "opLPkRbKxDtF"
      },
      "source": [
        "## Calculating the number of input channel for the generator and discriminator\n",
        "\n",
        "In a regular (unconditional) GAN, we start by sampling noise (of some fixed\n",
        "dimension) from a normal distribution. In our case, we also need to account\n",
        "for the class labels. We will have to add the number of classes to\n",
        "the input channels of the generator (noise input) as well as the discriminator\n",
        "(generated image input)."
      ]
    },
    {
      "cell_type": "code",
      "execution_count": null,
      "metadata": {
        "colab": {
          "base_uri": "https://localhost:8080/"
        },
        "id": "P3Jj-o7dxDtG",
        "outputId": "150b2b4b-a552-4b65-d650-7b7b0b41d70c"
      },
      "outputs": [
        {
          "output_type": "stream",
          "name": "stdout",
          "text": [
            "138 11\n"
          ]
        }
      ],
      "source": [
        "generator_in_channels = latent_dim + num_classes\n",
        "discriminator_in_channels = num_channels + num_classes\n",
        "print(generator_in_channels, discriminator_in_channels)"
      ]
    },
    {
      "cell_type": "markdown",
      "metadata": {
        "id": "v2P_JfORxDtG"
      },
      "source": [
        "## Creating the discriminator and generator\n",
        "\n",
        "The model definitions (`discriminator`, `generator`, and `ConditionalGAN`) have been\n",
        "adapted from [this example](https://keras.io/guides/customizing_what_happens_in_fit/)."
      ]
    },
    {
      "cell_type": "code",
      "execution_count": null,
      "metadata": {
        "id": "bUh6RCfyxDtG"
      },
      "outputs": [],
      "source": [
        "# Create the discriminator.\n",
        "discriminator = keras.Sequential(\n",
        "    [\n",
        "        keras.layers.InputLayer((28, 28, discriminator_in_channels)),\n",
        "        layers.Conv2D(64, (3, 3), strides=(2, 2), padding=\"same\"),\n",
        "        layers.LeakyReLU(negative_slope=0.2),\n",
        "        layers.Conv2D(128, (3, 3), strides=(2, 2), padding=\"same\"),\n",
        "        layers.LeakyReLU(negative_slope=0.2),\n",
        "        layers.GlobalMaxPooling2D(),\n",
        "        layers.Dense(1),\n",
        "    ],\n",
        "    name=\"discriminator\",\n",
        ")\n",
        "\n",
        "# Create the generator.\n",
        "generator = keras.Sequential(\n",
        "    [\n",
        "        keras.layers.InputLayer((generator_in_channels,)),\n",
        "        # We want to generate 128 + num_classes coefficients to reshape into a\n",
        "        # 7x7x(128 + num_classes) map.\n",
        "        layers.Dense(7 * 7 * generator_in_channels),\n",
        "        layers.LeakyReLU(negative_slope=0.2),\n",
        "        layers.Reshape((7, 7, generator_in_channels)),\n",
        "        layers.Conv2DTranspose(128, (4, 4), strides=(2, 2), padding=\"same\"),\n",
        "        layers.LeakyReLU(negative_slope=0.2),\n",
        "        layers.Conv2DTranspose(128, (4, 4), strides=(2, 2), padding=\"same\"),\n",
        "        layers.LeakyReLU(negative_slope=0.2),\n",
        "        layers.Conv2D(1, (7, 7), padding=\"same\", activation=\"sigmoid\"),\n",
        "    ],\n",
        "    name=\"generator\",\n",
        ")"
      ]
    },
    {
      "cell_type": "markdown",
      "metadata": {
        "id": "BAnjMPaSxDtH"
      },
      "source": [
        "## Creating a `ConditionalGAN` model"
      ]
    },
    {
      "cell_type": "code",
      "execution_count": null,
      "metadata": {
        "id": "sUDDUJ7jxDtH"
      },
      "outputs": [],
      "source": [
        "\n",
        "class ConditionalGAN(keras.Model):\n",
        "    def __init__(self, discriminator, generator, latent_dim):\n",
        "        super().__init__()\n",
        "        self.discriminator = discriminator\n",
        "        self.generator = generator\n",
        "        self.latent_dim = latent_dim\n",
        "        self.seed_generator = keras.random.SeedGenerator(1337)\n",
        "        self.gen_loss_tracker = keras.metrics.Mean(name=\"generator_loss\")\n",
        "        self.disc_loss_tracker = keras.metrics.Mean(name=\"discriminator_loss\")\n",
        "\n",
        "    @property\n",
        "    def metrics(self):\n",
        "        return [self.gen_loss_tracker, self.disc_loss_tracker]\n",
        "\n",
        "    def compile(self, d_optimizer, g_optimizer, loss_fn):\n",
        "        super().compile()\n",
        "        self.d_optimizer = d_optimizer\n",
        "        self.g_optimizer = g_optimizer\n",
        "        self.loss_fn = loss_fn\n",
        "\n",
        "    def train_step(self, data):\n",
        "        # Unpack the data.\n",
        "        real_images, one_hot_labels = data\n",
        "\n",
        "        # Add dummy dimensions to the labels so that they can be concatenated with\n",
        "        # the images. This is for the discriminator.\n",
        "        image_one_hot_labels = one_hot_labels[:, :, None, None]\n",
        "        image_one_hot_labels = ops.repeat(\n",
        "            image_one_hot_labels, repeats=[image_size * image_size]\n",
        "        )\n",
        "        image_one_hot_labels = ops.reshape(\n",
        "            image_one_hot_labels, (-1, image_size, image_size, num_classes)\n",
        "        )\n",
        "\n",
        "        # Sample random points in the latent space and concatenate the labels.\n",
        "        # This is for the generator.\n",
        "        batch_size = ops.shape(real_images)[0]\n",
        "        random_latent_vectors = keras.random.normal(\n",
        "            shape=(batch_size, self.latent_dim), seed=self.seed_generator\n",
        "        )\n",
        "        random_vector_labels = ops.concatenate(\n",
        "            [random_latent_vectors, one_hot_labels], axis=1\n",
        "        )\n",
        "\n",
        "        # Decode the noise (guided by labels) to fake images.\n",
        "        generated_images = self.generator(random_vector_labels)\n",
        "\n",
        "        # Combine them with real images. Note that we are concatenating the labels\n",
        "        # with these images here.\n",
        "        fake_image_and_labels = ops.concatenate(\n",
        "            [generated_images, image_one_hot_labels], -1\n",
        "        )\n",
        "        real_image_and_labels = ops.concatenate([real_images, image_one_hot_labels], -1)\n",
        "        combined_images = ops.concatenate(\n",
        "            [fake_image_and_labels, real_image_and_labels], axis=0\n",
        "        )\n",
        "\n",
        "        # Assemble labels discriminating real from fake images.\n",
        "        labels = ops.concatenate(\n",
        "            [ops.ones((batch_size, 1)), ops.zeros((batch_size, 1))], axis=0\n",
        "        )\n",
        "\n",
        "        # Train the discriminator.\n",
        "        with tf.GradientTape() as tape:\n",
        "            predictions = self.discriminator(combined_images)\n",
        "            d_loss = self.loss_fn(labels, predictions)\n",
        "        grads = tape.gradient(d_loss, self.discriminator.trainable_weights)\n",
        "        self.d_optimizer.apply_gradients(\n",
        "            zip(grads, self.discriminator.trainable_weights)\n",
        "        )\n",
        "\n",
        "        # Sample random points in the latent space.\n",
        "        random_latent_vectors = keras.random.normal(\n",
        "            shape=(batch_size, self.latent_dim), seed=self.seed_generator\n",
        "        )\n",
        "        random_vector_labels = ops.concatenate(\n",
        "            [random_latent_vectors, one_hot_labels], axis=1\n",
        "        )\n",
        "\n",
        "        # Assemble labels that say \"all real images\".\n",
        "        misleading_labels = ops.zeros((batch_size, 1))\n",
        "\n",
        "        # Train the generator (note that we should *not* update the weights\n",
        "        # of the discriminator)!\n",
        "        with tf.GradientTape() as tape:\n",
        "            fake_images = self.generator(random_vector_labels)\n",
        "            fake_image_and_labels = ops.concatenate(\n",
        "                [fake_images, image_one_hot_labels], -1\n",
        "            )\n",
        "            predictions = self.discriminator(fake_image_and_labels)\n",
        "            g_loss = self.loss_fn(misleading_labels, predictions)\n",
        "        grads = tape.gradient(g_loss, self.generator.trainable_weights)\n",
        "        self.g_optimizer.apply_gradients(zip(grads, self.generator.trainable_weights))\n",
        "\n",
        "        # Monitor loss.\n",
        "        self.gen_loss_tracker.update_state(g_loss)\n",
        "        self.disc_loss_tracker.update_state(d_loss)\n",
        "        return {\n",
        "            \"g_loss\": self.gen_loss_tracker.result(),\n",
        "            \"d_loss\": self.disc_loss_tracker.result(),\n",
        "        }\n"
      ]
    },
    {
      "cell_type": "markdown",
      "metadata": {
        "id": "OowFhYFPxDtH"
      },
      "source": [
        "## Training the Conditional GAN"
      ]
    },
    {
      "cell_type": "code",
      "execution_count": null,
      "metadata": {
        "colab": {
          "base_uri": "https://localhost:8080/"
        },
        "id": "M6y9_Lh7xDtH",
        "outputId": "e676032a-414c-4a73-ef0c-89f1ccfc7642"
      },
      "outputs": [
        {
          "output_type": "stream",
          "name": "stdout",
          "text": [
            "Epoch 1/20\n",
            "\u001b[1m1094/1094\u001b[0m \u001b[32m━━━━━━━━━━━━━━━━━━━━\u001b[0m\u001b[37m\u001b[0m \u001b[1m39s\u001b[0m 27ms/step - d_loss: 0.4357 - g_loss: 1.5027\n",
            "Epoch 2/20\n",
            "\u001b[1m1094/1094\u001b[0m \u001b[32m━━━━━━━━━━━━━━━━━━━━\u001b[0m\u001b[37m\u001b[0m \u001b[1m26s\u001b[0m 24ms/step - d_loss: 0.4592 - g_loss: 1.4931\n",
            "Epoch 3/20\n",
            "\u001b[1m1094/1094\u001b[0m \u001b[32m━━━━━━━━━━━━━━━━━━━━\u001b[0m\u001b[37m\u001b[0m \u001b[1m27s\u001b[0m 24ms/step - d_loss: 0.4034 - g_loss: 1.5840\n",
            "Epoch 4/20\n",
            "\u001b[1m1094/1094\u001b[0m \u001b[32m━━━━━━━━━━━━━━━━━━━━\u001b[0m\u001b[37m\u001b[0m \u001b[1m41s\u001b[0m 24ms/step - d_loss: 0.2622 - g_loss: 2.0249\n",
            "Epoch 5/20\n",
            "\u001b[1m1094/1094\u001b[0m \u001b[32m━━━━━━━━━━━━━━━━━━━━\u001b[0m\u001b[37m\u001b[0m \u001b[1m41s\u001b[0m 25ms/step - d_loss: 0.4944 - g_loss: 1.4627\n",
            "Epoch 6/20\n",
            "\u001b[1m1094/1094\u001b[0m \u001b[32m━━━━━━━━━━━━━━━━━━━━\u001b[0m\u001b[37m\u001b[0m \u001b[1m27s\u001b[0m 24ms/step - d_loss: 0.6482 - g_loss: 0.9736\n",
            "Epoch 7/20\n",
            "\u001b[1m1094/1094\u001b[0m \u001b[32m━━━━━━━━━━━━━━━━━━━━\u001b[0m\u001b[37m\u001b[0m \u001b[1m42s\u001b[0m 25ms/step - d_loss: 0.6826 - g_loss: 0.8474\n",
            "Epoch 8/20\n",
            "\u001b[1m1094/1094\u001b[0m \u001b[32m━━━━━━━━━━━━━━━━━━━━\u001b[0m\u001b[37m\u001b[0m \u001b[1m27s\u001b[0m 25ms/step - d_loss: 0.6806 - g_loss: 0.8093\n",
            "Epoch 9/20\n",
            "\u001b[1m1094/1094\u001b[0m \u001b[32m━━━━━━━━━━━━━━━━━━━━\u001b[0m\u001b[37m\u001b[0m \u001b[1m27s\u001b[0m 24ms/step - d_loss: 0.6838 - g_loss: 0.7733\n",
            "Epoch 10/20\n",
            "\u001b[1m1094/1094\u001b[0m \u001b[32m━━━━━━━━━━━━━━━━━━━━\u001b[0m\u001b[37m\u001b[0m \u001b[1m26s\u001b[0m 24ms/step - d_loss: 0.6851 - g_loss: 0.7612\n",
            "Epoch 11/20\n",
            "\u001b[1m1094/1094\u001b[0m \u001b[32m━━━━━━━━━━━━━━━━━━━━\u001b[0m\u001b[37m\u001b[0m \u001b[1m41s\u001b[0m 24ms/step - d_loss: 0.6812 - g_loss: 0.7605\n",
            "Epoch 12/20\n",
            "\u001b[1m1094/1094\u001b[0m \u001b[32m━━━━━━━━━━━━━━━━━━━━\u001b[0m\u001b[37m\u001b[0m \u001b[1m41s\u001b[0m 25ms/step - d_loss: 0.6805 - g_loss: 0.7615\n",
            "Epoch 13/20\n",
            "\u001b[1m1094/1094\u001b[0m \u001b[32m━━━━━━━━━━━━━━━━━━━━\u001b[0m\u001b[37m\u001b[0m \u001b[1m27s\u001b[0m 24ms/step - d_loss: 0.6880 - g_loss: 0.7506\n",
            "Epoch 14/20\n",
            "\u001b[1m1094/1094\u001b[0m \u001b[32m━━━━━━━━━━━━━━━━━━━━\u001b[0m\u001b[37m\u001b[0m \u001b[1m26s\u001b[0m 24ms/step - d_loss: 0.6848 - g_loss: 0.7387\n",
            "Epoch 15/20\n",
            "\u001b[1m1094/1094\u001b[0m \u001b[32m━━━━━━━━━━━━━━━━━━━━\u001b[0m\u001b[37m\u001b[0m \u001b[1m27s\u001b[0m 24ms/step - d_loss: 0.6815 - g_loss: 0.7424\n",
            "Epoch 16/20\n",
            "\u001b[1m1094/1094\u001b[0m \u001b[32m━━━━━━━━━━━━━━━━━━━━\u001b[0m\u001b[37m\u001b[0m \u001b[1m27s\u001b[0m 24ms/step - d_loss: 0.6860 - g_loss: 0.7417\n",
            "Epoch 17/20\n",
            "\u001b[1m1094/1094\u001b[0m \u001b[32m━━━━━━━━━━━━━━━━━━━━\u001b[0m\u001b[37m\u001b[0m \u001b[1m41s\u001b[0m 24ms/step - d_loss: 0.6711 - g_loss: 0.7681\n",
            "Epoch 18/20\n",
            "\u001b[1m1094/1094\u001b[0m \u001b[32m━━━━━━━━━━━━━━━━━━━━\u001b[0m\u001b[37m\u001b[0m \u001b[1m27s\u001b[0m 25ms/step - d_loss: 0.6771 - g_loss: 0.7570\n",
            "Epoch 19/20\n",
            "\u001b[1m1094/1094\u001b[0m \u001b[32m━━━━━━━━━━━━━━━━━━━━\u001b[0m\u001b[37m\u001b[0m \u001b[1m40s\u001b[0m 24ms/step - d_loss: 0.6683 - g_loss: 0.7635\n",
            "Epoch 20/20\n",
            "\u001b[1m1094/1094\u001b[0m \u001b[32m━━━━━━━━━━━━━━━━━━━━\u001b[0m\u001b[37m\u001b[0m \u001b[1m27s\u001b[0m 25ms/step - d_loss: 0.6668 - g_loss: 0.7673\n"
          ]
        },
        {
          "output_type": "execute_result",
          "data": {
            "text/plain": [
              "<keras.src.callbacks.history.History at 0x7e01049b8810>"
            ]
          },
          "metadata": {},
          "execution_count": 8
        }
      ],
      "source": [
        "cond_gan = ConditionalGAN(\n",
        "    discriminator=discriminator, generator=generator, latent_dim=latent_dim\n",
        ")\n",
        "cond_gan.compile(\n",
        "    d_optimizer=keras.optimizers.Adam(learning_rate=0.0003),\n",
        "    g_optimizer=keras.optimizers.Adam(learning_rate=0.0003),\n",
        "    loss_fn=keras.losses.BinaryCrossentropy(from_logits=True),\n",
        ")\n",
        "\n",
        "cond_gan.fit(dataset, epochs=20)"
      ]
    },
    {
      "cell_type": "markdown",
      "metadata": {
        "id": "n8MZOSPXxDtI"
      },
      "source": [
        "## Interpolating between classes with the trained generator"
      ]
    },
    {
      "cell_type": "code",
      "execution_count": null,
      "metadata": {
        "colab": {
          "base_uri": "https://localhost:8080/"
        },
        "id": "AaubHgm_xDtI",
        "outputId": "bb7d96db-4276-414e-8bde-04d0390f7bab"
      },
      "outputs": [
        {
          "output_type": "stream",
          "name": "stdout",
          "text": [
            "\u001b[1m1/1\u001b[0m \u001b[32m━━━━━━━━━━━━━━━━━━━━\u001b[0m\u001b[37m\u001b[0m \u001b[1m1s\u001b[0m 588ms/step\n"
          ]
        }
      ],
      "source": [
        "# We first extract the trained generator from our Conditional GAN.\n",
        "trained_gen = cond_gan.generator\n",
        "\n",
        "# Choose the number of intermediate images that would be generated in\n",
        "# between the interpolation + 2 (start and last images).\n",
        "num_interpolation = 9  # @param {type:\"integer\"}\n",
        "\n",
        "# Sample noise for the interpolation.\n",
        "interpolation_noise = keras.random.normal(shape=(1, latent_dim))\n",
        "interpolation_noise = ops.repeat(interpolation_noise, repeats=num_interpolation)\n",
        "interpolation_noise = ops.reshape(interpolation_noise, (num_interpolation, latent_dim))\n",
        "\n",
        "\n",
        "def interpolate_class(first_number, second_number):\n",
        "    # Convert the start and end labels to one-hot encoded vectors.\n",
        "    first_label = keras.utils.to_categorical([first_number], num_classes)\n",
        "    second_label = keras.utils.to_categorical([second_number], num_classes)\n",
        "    first_label = ops.cast(first_label, \"float32\")\n",
        "    second_label = ops.cast(second_label, \"float32\")\n",
        "\n",
        "    # Calculate the interpolation vector between the two labels.\n",
        "    percent_second_label = ops.linspace(0, 1, num_interpolation)[:, None]\n",
        "    percent_second_label = ops.cast(percent_second_label, \"float32\")\n",
        "    interpolation_labels = (\n",
        "        first_label * (1 - percent_second_label) + second_label * percent_second_label\n",
        "    )\n",
        "\n",
        "    # Combine the noise and the labels and run inference with the generator.\n",
        "    noise_and_labels = ops.concatenate([interpolation_noise, interpolation_labels], 1)\n",
        "    fake = trained_gen.predict(noise_and_labels)\n",
        "    return fake\n",
        "\n",
        "\n",
        "start_class = 2  # @param {type:\"slider\", min:0, max:9, step:1}\n",
        "end_class = 6  # @param {type:\"slider\", min:0, max:9, step:1}\n",
        "\n",
        "fake_images = interpolate_class(start_class, end_class)"
      ]
    },
    {
      "cell_type": "markdown",
      "metadata": {
        "id": "uBlIWdpKxDtI"
      },
      "source": [
        "Here, we first sample noise from a normal distribution and then we repeat that for\n",
        "`num_interpolation` times and reshape the result accordingly.\n",
        "We then distribute it uniformly for `num_interpolation`\n",
        "with the label identities being present in some proportion."
      ]
    },
    {
      "cell_type": "code",
      "execution_count": null,
      "metadata": {
        "colab": {
          "base_uri": "https://localhost:8080/",
          "height": 117
        },
        "id": "wBMj9Q3NxDtI",
        "outputId": "c8026773-407b-491d-c1b4-3c9ebea32663"
      },
      "outputs": [
        {
          "output_type": "execute_result",
          "data": {
            "text/plain": [
              "<IPython.core.display.HTML object>"
            ],
            "text/html": [
              "<img src=\"data:image/gif;base64,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\"/>"
            ]
          },
          "metadata": {},
          "execution_count": 10
        }
      ],
      "source": [
        "fake_images *= 255.0\n",
        "converted_images = fake_images.astype(np.uint8)\n",
        "converted_images = ops.image.resize(converted_images, (96, 96)).numpy().astype(np.uint8)\n",
        "imageio.mimsave(\"animation.gif\", converted_images[:, :, :, 0], fps=1)\n",
        "embed.embed_file(\"animation.gif\")"
      ]
    },
    {
      "cell_type": "markdown",
      "metadata": {
        "id": "WwFwbNu5xDtJ"
      },
      "source": [
        "We can further improve the performance of this model with recipes like\n",
        "[WGAN-GP](https://keras.io/examples/generative/wgan_gp).\n",
        "Conditional generation is also widely used in many modern image generation architectures like\n",
        "[VQ-GANs](https://arxiv.org/abs/2012.09841), [DALL-E](https://openai.com/blog/dall-e/),\n",
        "etc.\n",
        "\n",
        "You can use the trained model hosted on [Hugging Face Hub](https://huggingface.co/keras-io/conditional-gan) and try the demo on [Hugging Face Spaces](https://huggingface.co/spaces/keras-io/conditional-GAN)."
      ]
    }
  ],
  "metadata": {
    "accelerator": "GPU",
    "colab": {
      "provenance": [],
      "toc_visible": true,
      "include_colab_link": true
    },
    "kernelspec": {
      "display_name": "Python 3",
      "language": "python",
      "name": "python3"
    },
    "language_info": {
      "codemirror_mode": {
        "name": "ipython",
        "version": 3
      },
      "file_extension": ".py",
      "mimetype": "text/x-python",
      "name": "python",
      "nbconvert_exporter": "python",
      "pygments_lexer": "ipython3",
      "version": "3.7.0"
    }
  },
  "nbformat": 4,
  "nbformat_minor": 0
}